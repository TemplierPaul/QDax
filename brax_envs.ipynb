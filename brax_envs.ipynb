{
 "cells": [
  {
   "cell_type": "code",
   "execution_count": 1,
   "metadata": {},
   "outputs": [],
   "source": [
    "import jax\n",
    "import jax.numpy as jnp\n",
    "from qdax import  environments \n"
   ]
  },
  {
   "cell_type": "code",
   "execution_count": 5,
   "metadata": {},
   "outputs": [
    {
     "data": {
      "text/plain": [
       "<qdax.environments.base_wrappers.StateDescriptorResetWrapper at 0x7f1ef4099070>"
      ]
     },
     "execution_count": 5,
     "metadata": {},
     "output_type": "execute_result"
    }
   ],
   "source": [
    "env_name = \"ant_uni\"\n",
    "env_name = \"grasp_qd\"\n",
    "env_name = \"swimmer_qd\"\n",
    "\n",
    "episode_length = 1000\n",
    "deterministic = True\n",
    "\n",
    "env = environments.create(\n",
    "    env_name, \n",
    "    episode_length=episode_length,\n",
    "    fixed_init_state= deterministic,\n",
    ")\n",
    "env"
   ]
  },
  {
   "cell_type": "code",
   "execution_count": 6,
   "metadata": {},
   "outputs": [
    {
     "data": {
      "text/plain": [
       "2"
      ]
     },
     "execution_count": 6,
     "metadata": {},
     "output_type": "execute_result"
    }
   ],
   "source": [
    "env.action_size"
   ]
  },
  {
   "cell_type": "code",
   "execution_count": 7,
   "metadata": {},
   "outputs": [
    {
     "name": "stdout",
     "output_type": "stream",
     "text": [
      "<class 'qdax.environments.base_wrappers.StateDescriptorResetWrapper'> 2\n",
      "<class 'brax.envs.wrappers.AutoResetWrapper'> 2\n",
      "<class 'qdax.environments.init_state_wrapper.FixedInitialStateWrapper'> 2\n",
      "<class 'brax.envs.wrappers.EpisodeWrapper'> 2\n",
      "<class 'qdax.environments.locomotion_wrappers.EmptyBDWrapper'> 2\n",
      "<class 'brax.envs.swimmer.Swimmer'> 2\n"
     ]
    }
   ],
   "source": [
    "inside_env = env\n",
    "print(type(inside_env), env.action_size)\n",
    "\n",
    "while hasattr(inside_env, 'env'):\n",
    "    inside_env = inside_env.env\n",
    "    print(type(inside_env), inside_env.action_size)"
   ]
  },
  {
   "cell_type": "code",
   "execution_count": 8,
   "metadata": {},
   "outputs": [
    {
     "data": {
      "text/plain": [
       "<brax.envs.swimmer.Swimmer at 0x7f1ef40bfeb0>"
      ]
     },
     "execution_count": 8,
     "metadata": {},
     "output_type": "execute_result"
    }
   ],
   "source": [
    "env.unwrapped"
   ]
  },
  {
   "cell_type": "code",
   "execution_count": 18,
   "metadata": {},
   "outputs": [
    {
     "data": {
      "text/plain": [
       "<brax.envs.grasp.Grasp at 0x7f688c107730>"
      ]
     },
     "execution_count": 18,
     "metadata": {},
     "output_type": "execute_result"
    }
   ],
   "source": [
    "env.env.env.env.env.env"
   ]
  },
  {
   "cell_type": "code",
   "execution_count": 3,
   "metadata": {},
   "outputs": [],
   "source": [
    "random_key = jax.random.PRNGKey(0)\n",
    "keys = jax.random.split(random_key, num=1)\n",
    "fake_batch = jnp.zeros(shape=(1, env.observation_size))"
   ]
  },
  {
   "cell_type": "code",
   "execution_count": 10,
   "metadata": {},
   "outputs": [
    {
     "data": {
      "text/plain": [
       "State(qp=QP(pos=array([[0.        , 0.        , 0.        ],\n",
       "       [0.        , 0.        , 0.1       ],\n",
       "       [0.99958244, 0.02043114, 0.1       ],\n",
       "       [1.99812692, 0.07306319, 0.1       ]]), rot=array([[1.00000000e+00, 0.00000000e+00, 0.00000000e+00, 0.00000000e+00],\n",
       "       [1.00000000e+00, 0.00000000e+00, 0.00000000e+00, 0.00000000e+00],\n",
       "       [9.99791205e-01, 4.53757121e-18, 0.00000000e+00, 2.04354040e-02],\n",
       "       [9.99480926e-01, 7.15375344e-18, 0.00000000e+00, 3.22176413e-02]]), vel=array([[0., 0., 0.],\n",
       "       [0., 0., 0.],\n",
       "       [0., 0., 0.],\n",
       "       [0., 0., 0.]]), ang=array([[ 0.00000000e+00,  0.00000000e+00,  0.00000000e+00],\n",
       "       [ 0.00000000e+00,  0.00000000e+00,  0.00000000e+00],\n",
       "       [-7.95485202e-18,  0.00000000e+00, -3.58254686e-02],\n",
       "       [-1.47172571e-17,  0.00000000e+00, -6.62806337e-02]])), obs=array([0.        , 0.04087365, 0.02357278, 0.        , 0.        ,\n",
       "       0.        , 0.03582547, 0.03045517]), reward=0.0, done=0.0, metrics={'reward_fwd': 0.0, 'reward_ctrl': 0.0, 'x_position': 0.0, 'y_position': 0.0, 'distance_from_origin': 0.0, 'x_velocity': 0.0, 'y_velocity': 0.0, 'forward_reward': 0.0}, info={'steps': array(0.), 'truncation': array(0.), 'first_qp': QP(pos=array([[0.        , 0.        , 0.        ],\n",
       "       [0.        , 0.        , 0.1       ],\n",
       "       [0.99958244, 0.02043114, 0.1       ],\n",
       "       [1.99812692, 0.07306319, 0.1       ]]), rot=array([[1.00000000e+00, 0.00000000e+00, 0.00000000e+00, 0.00000000e+00],\n",
       "       [1.00000000e+00, 0.00000000e+00, 0.00000000e+00, 0.00000000e+00],\n",
       "       [9.99791205e-01, 4.53757121e-18, 0.00000000e+00, 2.04354040e-02],\n",
       "       [9.99480926e-01, 7.15375344e-18, 0.00000000e+00, 3.22176413e-02]]), vel=array([[0., 0., 0.],\n",
       "       [0., 0., 0.],\n",
       "       [0., 0., 0.],\n",
       "       [0., 0., 0.]]), ang=array([[ 0.00000000e+00,  0.00000000e+00,  0.00000000e+00],\n",
       "       [ 0.00000000e+00,  0.00000000e+00,  0.00000000e+00],\n",
       "       [-7.95485202e-18,  0.00000000e+00, -3.58254686e-02],\n",
       "       [-1.47172571e-17,  0.00000000e+00, -6.62806337e-02]])), 'first_obs': array([0.        , 0.04087365, 0.02357278, 0.        , 0.        ,\n",
       "       0.        , 0.03582547, 0.03045517])})"
      ]
     },
     "execution_count": 10,
     "metadata": {},
     "output_type": "execute_result"
    }
   ],
   "source": [
    "# play a random episode\n",
    "env.reset(keys[0])"
   ]
  },
  {
   "cell_type": "code",
   "execution_count": null,
   "metadata": {},
   "outputs": [],
   "source": []
  }
 ],
 "metadata": {
  "kernelspec": {
   "display_name": "qdax_env",
   "language": "python",
   "name": "python3"
  },
  "language_info": {
   "codemirror_mode": {
    "name": "ipython",
    "version": 3
   },
   "file_extension": ".py",
   "mimetype": "text/x-python",
   "name": "python",
   "nbconvert_exporter": "python",
   "pygments_lexer": "ipython3",
   "version": "3.9.16"
  },
  "orig_nbformat": 4
 },
 "nbformat": 4,
 "nbformat_minor": 2
}
