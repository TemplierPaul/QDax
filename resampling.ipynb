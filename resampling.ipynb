{
 "cells": [
  {
   "attachments": {},
   "cell_type": "markdown",
   "metadata": {},
   "source": [
    "# DEMONS\n",
    "## Distribution Estimation with MOnte-Carlo for Noisy evolutions Strategies"
   ]
  },
  {
   "cell_type": "code",
   "execution_count": 1,
   "metadata": {},
   "outputs": [
    {
     "name": "stderr",
     "output_type": "stream",
     "text": [
      "/home/paul/miniconda3/envs/gpjax_env/lib/python3.9/site-packages/flax/struct.py:132: FutureWarning: jax.tree_util.register_keypaths is deprecated, and will be removed in a future release. Please use `register_pytree_with_keys()` instead.\n",
      "  jax.tree_util.register_keypaths(data_clz, keypaths)\n",
      "/home/paul/miniconda3/envs/gpjax_env/lib/python3.9/site-packages/flax/struct.py:132: FutureWarning: jax.tree_util.register_keypaths is deprecated, and will be removed in a future release. Please use `register_pytree_with_keys()` instead.\n",
      "  jax.tree_util.register_keypaths(data_clz, keypaths)\n"
     ]
    }
   ],
   "source": [
    "import jax\n",
    "import jax.numpy as jnp\n",
    "import flax\n",
    "import optax\n",
    "\n",
    "import matplotlib.pyplot as plt\n",
    "%matplotlib inline"
   ]
  },
  {
   "cell_type": "code",
   "execution_count": 2,
   "metadata": {},
   "outputs": [
    {
     "name": "stderr",
     "output_type": "stream",
     "text": [
      "/home/paul/miniconda3/envs/gpjax_env/lib/python3.9/site-packages/flax/struct.py:132: FutureWarning: jax.tree_util.register_keypaths is deprecated, and will be removed in a future release. Please use `register_pytree_with_keys()` instead.\n",
      "  jax.tree_util.register_keypaths(data_clz, keypaths)\n",
      "/home/paul/miniconda3/envs/gpjax_env/lib/python3.9/site-packages/flax/struct.py:132: FutureWarning: jax.tree_util.register_keypaths is deprecated, and will be removed in a future release. Please use `register_pytree_with_keys()` instead.\n",
      "  jax.tree_util.register_keypaths(data_clz, keypaths)\n",
      "/home/paul/miniconda3/envs/gpjax_env/lib/python3.9/site-packages/flax/struct.py:132: FutureWarning: jax.tree_util.register_keypaths is deprecated, and will be removed in a future release. Please use `register_pytree_with_keys()` instead.\n",
      "  jax.tree_util.register_keypaths(data_clz, keypaths)\n"
     ]
    }
   ],
   "source": [
    "from qdax.tasks.brax_envs import (\n",
    "    make_policy_network_play_step_fn_brax,\n",
    "    reset_based_scoring_function_brax_envs,\n",
    ")\n",
    "from qdax.core.rl_es_parts.canonical_es import CanonicalESConfig, CanonicalESEmitter, CanonicalESEmitterState\n",
    "\n",
    "import jax\n",
    "import jax.numpy as jnp\n",
    "import functools\n",
    "\n",
    "from qdax import environments\n",
    "from qdax.types import Centroid, Descriptor, ExtraScores, Fitness, Genotype, RNGKey\n",
    "\n",
    "from typing import Callable, Tuple\n"
   ]
  },
  {
   "cell_type": "code",
   "execution_count": 3,
   "metadata": {},
   "outputs": [],
   "source": [
    "minval = -5.12 #@param {type:\"number\"}\n",
    "maxval = 5.12 #@param {type:\"number\"}\n",
    "\n",
    "def rastrigin_scoring(x: jnp.ndarray):\n",
    "    first_term = 10 * x.shape[-1]\n",
    "    second_term = jnp.sum((x + minval * 0.4) ** 2 - 10 * jnp.cos(2 * jnp.pi * (x + minval * 0.4)))\n",
    "    return -(first_term + second_term)\n",
    "\n",
    "def sphere_scoring(x: jnp.ndarray):\n",
    "    return -jnp.sum((x + minval * 0.4) * (x + minval * 0.4), axis=-1)\n",
    "\n",
    "optim_problem = \"sphere\"\n",
    "# optim_problem = \"rastrigin\"\n",
    "if optim_problem == \"sphere\":\n",
    "    fitness_scoring = sphere_scoring\n",
    "elif optim_problem == \"rastrigin\":\n",
    "    fitness_scoring = rastrigin_scoring\n",
    "else:\n",
    "    raise Exception(\"Invalid opt function name given\")\n",
    "\n",
    "def scoring_function(x):\n",
    "    scores, descriptors = fitness_scoring(x), (0, 0)\n",
    "    return scores, descriptors, {}\n",
    "\n",
    "def scoring_fn(x, random_key):\n",
    "    fitnesses, descriptors, extra_scores = jax.vmap(scoring_function)(x)\n",
    "    return fitnesses, descriptors, extra_scores, random_key"
   ]
  },
  {
   "cell_type": "code",
   "execution_count": 4,
   "metadata": {},
   "outputs": [],
   "source": [
    "def make_noisy(scoring_function, noise_sigma):\n",
    "    def noisy_scoring_fn(x, random_key):\n",
    "        fitnesses, descriptors, extra_scores = jax.vmap(scoring_function)(x)\n",
    "        # Add noise to fitnesses\n",
    "        random_key, noise_key = jax.random.split(random_key)\n",
    "        noise = jax.random.normal(noise_key, fitnesses.shape) * noise_sigma\n",
    "        fitnesses += noise\n",
    "        return fitnesses, descriptors, extra_scores, random_key\n",
    "    return noisy_scoring_fn"
   ]
  },
  {
   "cell_type": "code",
   "execution_count": 5,
   "metadata": {},
   "outputs": [],
   "source": [
    "class Population(flax.struct.PyTreeNode):\n",
    "    genotypes: Genotype\n",
    "    evaluations: int\n",
    "    sum_fitness: Fitness\n",
    "    sum_squared_fitness: Fitness\n",
    "\n",
    "    @property\n",
    "    def mean_fitness(self):\n",
    "        return self.sum_fitness / self.evaluations\n",
    "\n",
    "    @property\n",
    "    def std_fitness(self):\n",
    "        return jnp.sqrt(self.sum_squared_fitness / self.evaluations - self.mean_fitness ** 2)\n",
    "\n",
    "    @property\n",
    "    def average_std(self):\n",
    "        return self.std_fitness / jnp.sqrt(self.evaluations)\n",
    "\n",
    "    def sample(self, rng_key):\n",
    "        # Compute a normal distribution \n",
    "        # mean is mean_fitness\n",
    "        # std if average_std\n",
    "        # sample from this distribution\n",
    "        return jax.random.normal(rng_key, shape=self.sum_fitness.shape) * self.average_std + self.mean_fitness\n",
    "        \n",
    "    @classmethod\n",
    "    def init_default(cls, size, genotype):\n",
    "        # default genotypes is all 0\n",
    "        default_genotypes = jax.tree_util.tree_map(\n",
    "            lambda x: jnp.zeros(shape=(size,) + x.shape, dtype=x.dtype),\n",
    "            genotype,\n",
    "        )\n",
    "        return cls(\n",
    "            genotypes=default_genotypes,\n",
    "            evaluations=jnp.zeros(shape=(size,), dtype=jnp.int32),\n",
    "            sum_fitness=jnp.zeros(shape=(size,), dtype=jnp.float32),\n",
    "            sum_squared_fitness=jnp.zeros(shape=(size,), dtype=jnp.float32),\n",
    "        )\n",
    "    \n",
    "    @classmethod\n",
    "    def init(cls, genotypes):\n",
    "        # default genotypes is all 0\n",
    "        size = genotypes.shape[0]\n",
    "        return cls(\n",
    "            genotypes=genotypes,\n",
    "            evaluations=jnp.zeros(shape=(size,), dtype=jnp.int32),\n",
    "            sum_fitness=jnp.zeros(shape=(size,), dtype=jnp.float32),\n",
    "            sum_squared_fitness=jnp.zeros(shape=(size,), dtype=jnp.float32),\n",
    "        )\n",
    "    \n",
    "    def add_evaluation(self, index, fitness):\n",
    "        return self.replace(\n",
    "            evaluations=self.evaluations.at[index].add(1),\n",
    "            sum_fitness=self.sum_fitness.at[index].add(fitness),\n",
    "            sum_squared_fitness=self.sum_squared_fitness.at[index].add(fitness ** 2),\n",
    "        )\n",
    "    \n",
    "    def add_batch_evaluation(self, index, fitnesses):\n",
    "        # Add multiple evals for a single index\n",
    "        return self.replace(\n",
    "            evaluations=self.evaluations.at[index].add(fitnesses.shape[0]),\n",
    "            sum_fitness=self.sum_fitness.at[index].add(jnp.sum(fitnesses, axis=0)),\n",
    "            sum_squared_fitness=self.sum_squared_fitness.at[index].add(jnp.sum(fitnesses ** 2, axis=0)),\n",
    "        )"
   ]
  },
  {
   "cell_type": "code",
   "execution_count": 6,
   "metadata": {},
   "outputs": [],
   "source": [
    "from qdax.core.emitters.emitter import Emitter, EmitterState\n",
    "from flax.struct import dataclass as fdataclass\n",
    "\n",
    "class ESState(EmitterState):\n",
    "    offspring: Genotype\n",
    "    generation_count: int\n",
    "    random_key: RNGKey\n",
    "\n",
    "class ES:\n",
    "    def __init__(\n",
    "            self, \n",
    "            config: CanonicalESConfig,\n",
    "            rollout_fn: Callable[\n",
    "                [Genotype, RNGKey], Tuple[Fitness, Descriptor, ExtraScores, RNGKey]\n",
    "            ],\n",
    "            eval_fn: Callable[\n",
    "                [Genotype, RNGKey], Tuple[Fitness, Descriptor, ExtraScores, RNGKey]\n",
    "            ],\n",
    "            ):\n",
    "        self.config = config\n",
    "        self._eval_fn = eval_fn\n",
    "        self._rollout_fn = rollout_fn\n",
    "\n",
    "    def init(\n",
    "        self, \n",
    "        init_genotype: Genotype, \n",
    "        random_key: RNGKey\n",
    "    ) -> Tuple[ESState, RNGKey]:\n",
    "        return (\n",
    "            ESState(\n",
    "                offspring=init_genotype,\n",
    "                generation_count=0,\n",
    "                random_key=random_key,\n",
    "            ),\n",
    "            random_key,\n",
    "        )\n",
    "\n",
    "    def sample(self, parent, random_key):\n",
    "        random_key, subkey = jax.random.split(random_key)\n",
    "\n",
    "        sample_number = self.config.sample_number\n",
    "        # print(\"sample_number\", sample_number)\n",
    "        # Make it so the first dimension of parent is 1\n",
    "        parent = jax.tree_map(\n",
    "            lambda x: x[None, ...],\n",
    "            parent,\n",
    "        )\n",
    "        \n",
    "        # Sample noise\n",
    "        sample_noise = jax.tree_map(\n",
    "            lambda x: jax.random.normal(\n",
    "                key=subkey,\n",
    "                shape=jnp.repeat(x, sample_number, axis=0).shape,\n",
    "            ),\n",
    "            parent,\n",
    "        )\n",
    "        # print(\"sample_noise\", sample_noise.shape)\n",
    "        # Add noise to parent\n",
    "        networks = jax.tree_map(\n",
    "            lambda x: jnp.repeat(x, sample_number, axis=0),\n",
    "            parent,\n",
    "        )\n",
    "        # print(\"networks\", networks.shape)\n",
    "        networks = jax.tree_map(\n",
    "            lambda mean, noise: mean + self.config.sample_sigma * noise,\n",
    "            networks,\n",
    "            sample_noise,\n",
    "        )\n",
    "        # print(\"networks\", networks.shape)\n",
    "\n",
    "        return networks, random_key\n",
    "\n",
    "    def update(\n",
    "            self, \n",
    "            emitter_state: ESState,\n",
    "            population: Population,\n",
    "            scores: Fitness,\n",
    "            parent: Genotype,\n",
    "    ):\n",
    "        sample_number = self.config.sample_number \n",
    "        \n",
    "        # (pop - parent) / sigma\n",
    "        sample_noise = jax.tree_map(\n",
    "            lambda x: (x - parent) / self.config.sample_sigma,\n",
    "            population.genotypes,\n",
    "        )\n",
    "\n",
    "        # Compute rank and weight\n",
    "        ranking_indices = jnp.argsort(scores, axis=0)\n",
    "        ranks = jnp.argsort(ranking_indices, axis=0)\n",
    "        ranks = self.config.sample_number - ranks  # Inverting the ranks\n",
    "\n",
    "        mu = self.config.canonical_mu  # Number of parents\n",
    "\n",
    "        weights = jnp.where(ranks <= mu, jnp.log(mu + 0.5) - jnp.log(ranks), 0)\n",
    "        weights /= jnp.sum(weights)  # Normalizing the weights\n",
    "\n",
    "        # print(\"weights\", weights.shape)\n",
    "\n",
    "        # Reshaping rank to match shape of genotype_noise\n",
    "        weights = jax.tree_map(\n",
    "            lambda x: jnp.reshape(\n",
    "                jnp.repeat(weights.ravel(), x[0].ravel().shape[0], axis=0), x.shape\n",
    "            ),\n",
    "            sample_noise,\n",
    "        )\n",
    "\n",
    "        # Computing the update\n",
    "        # Noise is multiplied by rank-based weight\n",
    "        gradient = jax.tree_map(\n",
    "            lambda noise, w: jnp.multiply(noise, w),\n",
    "            sample_noise,\n",
    "            weights,\n",
    "        )\n",
    "        # Noise is summed over the sample dimension and multiplied by sigma\n",
    "        gradient = jax.tree_map(\n",
    "            lambda x: jnp.reshape(x, (sample_number, -1)),\n",
    "            gradient,\n",
    "        )\n",
    "        gradient = jax.tree_map(\n",
    "            lambda g, p: jnp.reshape(\n",
    "                jnp.sum(g, axis=0) * self.config.sample_sigma,\n",
    "                p.shape,\n",
    "            ),\n",
    "            gradient,\n",
    "            parent,\n",
    "        )\n",
    "\n",
    "        offspring = optax.apply_updates(parent, gradient)\n",
    "        return offspring, emitter_state\n",
    "\n",
    "\n",
    "    def step(self, emitter_state: ESState, n_gens=100):\n",
    "        emitter_state, metrics = jax.lax.scan(\n",
    "            self.scan_step,\n",
    "            emitter_state,\n",
    "            None, \n",
    "            length=n_gens,\n",
    "        )\n",
    "        metrics = jax.tree_map(lambda x: x.squeeze(), metrics)\n",
    "\n",
    "        return emitter_state, metrics\n",
    "        \n",
    "    def scan_step(self, carry, unused):\n",
    "        emitter_state = carry\n",
    "\n",
    "        # Sample population\n",
    "        genotypes, random_key = self.sample(emitter_state.offspring, emitter_state.random_key)\n",
    "        population = Population.init(genotypes=genotypes)\n",
    "        # Evaluate population\n",
    "        scores, descriptors, extra_scores, random_key = self._rollout_fn(population.genotypes, random_key)\n",
    "        # Update population\n",
    "        offspring, emitter_state = self.update(\n",
    "            emitter_state,\n",
    "            population,\n",
    "            scores,\n",
    "            emitter_state.offspring,\n",
    "        )\n",
    "\n",
    "        # Evaluate population\n",
    "        indices = jnp.arange(self.config.sample_number)\n",
    "        genomes = population.genotypes[indices]\n",
    "        random_key, key = jax.random.split(random_key)\n",
    "        f, d, _, _ = self._rollout_fn(genomes, key)\n",
    "\n",
    "        population = population.add_evaluation(indices, f)\n",
    "\n",
    "        # Update population\n",
    "        scores = population.mean_fitness\n",
    "        offspring, new_emitter_state = self.update(\n",
    "            emitter_state = emitter_state,\n",
    "            population = population,\n",
    "            scores = scores,\n",
    "            parent = emitter_state.offspring,\n",
    "        )\n",
    "\n",
    "        # Add 1 dim to offspring\n",
    "        offspring = jnp.expand_dims(offspring, axis=0)\n",
    "\n",
    "        # Eval true fitness of offspring\n",
    "        offspring_fitnesses, offspring_descriptors, extra_scores, random_key = self._eval_fn(offspring, jax.random.PRNGKey(0))\n",
    "\n",
    "        metrics = {\n",
    "            \"offspring_fitness\": offspring_fitnesses,\n",
    "            \"offspring_descriptors\": offspring_descriptors,\n",
    "            \"mmean_pop_fitness\": f.mean(),\n",
    "            \"center_genome\": offspring[0],\n",
    "        }\n",
    "\n",
    "        new_emitter_state = ESState(\n",
    "            offspring=offspring[0],\n",
    "            generation_count=emitter_state.generation_count + 1,\n",
    "            random_key=random_key,\n",
    "        )\n",
    "\n",
    "        return new_emitter_state, metrics"
   ]
  },
  {
   "cell_type": "code",
   "execution_count": 7,
   "metadata": {},
   "outputs": [],
   "source": [
    "# Initialize population\n",
    "pop_size = 100\n",
    "n_genes = 10\n",
    "# noise_sigma = 0.1\n",
    "\n",
    "config = CanonicalESConfig(\n",
    "        sample_sigma=0.01,\n",
    "        sample_number=pop_size,\n",
    "        canonical_mu=int(pop_size/2),\n",
    "    )\n",
    "\n",
    "n_loops = 1000"
   ]
  },
  {
   "cell_type": "code",
   "execution_count": 20,
   "metadata": {},
   "outputs": [
    {
     "name": "stdout",
     "output_type": "stream",
     "text": [
      "Normal ES\n",
      "Noise 0 | Max fitness: -0.00\n",
      "Noise 0.001 | Max fitness: -0.00\n",
      "Noise 0.01 | Max fitness: -0.03\n",
      "Noise 0.1 | Max fitness: -0.77\n",
      "Noise 1 | Max fitness: -5.13\n"
     ]
    }
   ],
   "source": [
    "print(\"Normal ES\")\n",
    "for noise_sigma in [0, 0.001, 0.01, 0.1, 1]:\n",
    "    noisy_scoring_fn = make_noisy(scoring_function, noise_sigma=noise_sigma)\n",
    "\n",
    "    es = ES(\n",
    "        config=config,\n",
    "        rollout_fn=noisy_scoring_fn,\n",
    "        eval_fn=scoring_fn,\n",
    "    )\n",
    "\n",
    "    parent = jnp.ones(n_genes)\n",
    "\n",
    "    es_state, random_key = es.init(\n",
    "        init_genotype=parent,\n",
    "        random_key=jax.random.PRNGKey(0),\n",
    "    )\n",
    "\n",
    "    new_emitter_state, metrics = es.step(es_state, n_gens=n_loops)\n",
    "    fit = metrics[\"offspring_fitness\"]\n",
    "    max_fit = fit.max()\n",
    "    print(f\"Noise {noise_sigma} | Max fitness: {max_fit:.2f}\")\n",
    "    # %matplotlib inline\n",
    "    # fig, ax = plt.subplots(figsize=(10, 5))\n",
    "    # ax.plot(fit)\n",
    "    # ax.set_xlabel(\"Generation\")\n",
    "    # ax.set_ylabel(\"Fitness\")\n",
    "    # plt.title(f\"Fitness over {n_loops} generations with noise sigma {noise_sigma}\\n Max fitness: {max_fit:.2f}\")\n",
    "    # plt.show()\n"
   ]
  },
  {
   "cell_type": "code",
   "execution_count": 21,
   "metadata": {},
   "outputs": [],
   "source": [
    "class StaticResamplingES(ES):\n",
    "    def __init__(\n",
    "            self, \n",
    "            config: CanonicalESConfig,\n",
    "            rollout_fn: Callable[\n",
    "                [Genotype, RNGKey], Tuple[Fitness, Descriptor, ExtraScores, RNGKey]\n",
    "            ],\n",
    "            eval_fn: Callable[\n",
    "                [Genotype, RNGKey], Tuple[Fitness, Descriptor, ExtraScores, RNGKey]\n",
    "            ],\n",
    "            gen_budget: int=1,\n",
    "            ):\n",
    "        \n",
    "        super().__init__(\n",
    "            config=config,\n",
    "            rollout_fn=rollout_fn,\n",
    "            eval_fn=eval_fn,\n",
    "        )\n",
    "        self.gen_budget = gen_budget # budget for each offspring\n",
    "\n",
    "\n",
    "    def scan_step(self, carry, unused):\n",
    "        emitter_state = carry\n",
    "\n",
    "        # Sample population\n",
    "        genotypes, random_key = self.sample(emitter_state.offspring, emitter_state.random_key)\n",
    "        population = Population.init(genotypes=genotypes)\n",
    "        # Evaluate population\n",
    "        scores, descriptors, extra_scores, random_key = self._rollout_fn(population.genotypes, random_key)\n",
    "        # Update population\n",
    "        offspring, emitter_state = self.update(\n",
    "            emitter_state,\n",
    "            population,\n",
    "            scores,\n",
    "            emitter_state.offspring,\n",
    "        )\n",
    "\n",
    "        # Evaluate population\n",
    "        indices = jnp.arange(self.config.sample_number)\n",
    "        genomes = population.genotypes[indices]\n",
    "\n",
    "        if self.gen_budget == 1:\n",
    "            # split key\n",
    "            random_key, key = jax.random.split(random_key)\n",
    "            f, d, _, _ = self._rollout_fn(genomes, key)\n",
    "            population = population.add_evaluation(indices, f)\n",
    "            pop_fit = f.mean()\n",
    "        else:\n",
    "            # get gen_budget keys\n",
    "            random_key, key = jax.random.split(random_key)\n",
    "            keys = jax.random.split(key, self.gen_budget)\n",
    "            # eval\n",
    "            multi_eval, d, _, _ = jax.vmap(\n",
    "                lambda seed: noisy_scoring_fn(genomes, seed),\n",
    "                in_axes=(0),\n",
    "            )(\n",
    "                keys\n",
    "            )\n",
    "            pop_fit = multi_eval.mean()\n",
    "            population = population.add_batch_evaluation(indices, multi_eval)\n",
    "\n",
    "        # Update population\n",
    "        scores = population.mean_fitness\n",
    "        offspring, new_emitter_state = self.update(\n",
    "            emitter_state = emitter_state,\n",
    "            population = population,\n",
    "            scores = scores,\n",
    "            parent = emitter_state.offspring,\n",
    "        )\n",
    "\n",
    "        # Add 1 dim to offspring\n",
    "        offspring = jnp.expand_dims(offspring, axis=0)\n",
    "\n",
    "        # Eval true fitness of offspring\n",
    "        offspring_fitnesses, offspring_descriptors, extra_scores, random_key = self._eval_fn(offspring, jax.random.PRNGKey(0))\n",
    "\n",
    "        metrics = {\n",
    "            \"offspring_fitness\": offspring_fitnesses,\n",
    "            \"offspring_descriptors\": offspring_descriptors,\n",
    "            \"mmean_pop_fitness\": pop_fit,\n",
    "            \"center_genome\": offspring[0],\n",
    "        }\n",
    "\n",
    "        new_emitter_state = ESState(\n",
    "            offspring=offspring[0],\n",
    "            generation_count=emitter_state.generation_count + 1,\n",
    "            random_key=random_key,\n",
    "        )\n",
    "\n",
    "        return new_emitter_state, metrics"
   ]
  },
  {
   "cell_type": "code",
   "execution_count": 27,
   "metadata": {},
   "outputs": [
    {
     "name": "stdout",
     "output_type": "stream",
     "text": [
      "Static Resampling ES - Budget 5\n",
      "Noise 0 | Max fitness: -0.00\n",
      "Noise 0.001 | Max fitness: -0.00\n",
      "Noise 0.01 | Max fitness: -0.01\n",
      "Noise 0.1 | Max fitness: -1.03\n",
      "Noise 1 | Max fitness: -8.84\n"
     ]
    }
   ],
   "source": [
    "eval_budget = 5\n",
    "\n",
    "print(f\"Static Resampling ES - Budget {eval_budget}\")\n",
    "for noise_sigma in [0, 0.001, 0.01, 0.1, 1]:\n",
    "    noisy_scoring_fn = make_noisy(scoring_function, noise_sigma=noise_sigma)\n",
    "\n",
    "    es = StaticResamplingES(\n",
    "        config=config,\n",
    "        rollout_fn=noisy_scoring_fn,\n",
    "        eval_fn=scoring_fn,\n",
    "        gen_budget=eval_budget,\n",
    "    )\n",
    "\n",
    "    parent = jnp.ones(n_genes)\n",
    "\n",
    "    es_state, random_key = es.init(\n",
    "        init_genotype=parent,\n",
    "        random_key=jax.random.PRNGKey(0),\n",
    "    )\n",
    "\n",
    "    new_emitter_state, metrics = es.step(es_state, n_gens=n_loops)\n",
    "    fit = metrics[\"offspring_fitness\"]\n",
    "    max_fit = fit.max()\n",
    "    print(f\"Noise {noise_sigma} | Max fitness: {max_fit:.2f}\")\n",
    "\n",
    "    # %matplotlib inline\n",
    "    # fig, ax = plt.subplots(figsize=(10, 5))\n",
    "    # ax.plot(fit)\n",
    "    # ax.set_xlabel(\"Generation\")\n",
    "    # ax.set_ylabel(\"Fitness\")\n",
    "    # plt.title(f\"Fitness with noise sigma {noise_sigma} and {eval_budget} evals\\n Max fitness: {max_fit:.2f}\")\n",
    "    # plt.show()\n"
   ]
  },
  {
   "cell_type": "code",
   "execution_count": 23,
   "metadata": {},
   "outputs": [],
   "source": [
    "class SmartResamplingES(ES):\n",
    "    def __init__(\n",
    "            self, \n",
    "            config: CanonicalESConfig,\n",
    "            rollout_fn: Callable[\n",
    "                [Genotype, RNGKey], Tuple[Fitness, Descriptor, ExtraScores, RNGKey]\n",
    "            ],\n",
    "            eval_fn: Callable[\n",
    "                [Genotype, RNGKey], Tuple[Fitness, Descriptor, ExtraScores, RNGKey]\n",
    "            ],\n",
    "            gen_budget: int=1,\n",
    "            eval_batches:int = 1,\n",
    "            ):\n",
    "        \n",
    "        super().__init__(\n",
    "            config=config,\n",
    "            rollout_fn=rollout_fn,\n",
    "            eval_fn=eval_fn,\n",
    "        )\n",
    "        self.gen_budget = gen_budget # budget for each offspring\n",
    "        self.eval_batches = eval_batches\n",
    "\n",
    "    def select_indices(self, population, n=1):\n",
    "        raise NotImplementedError\n",
    "\n",
    "\n",
    "    def scan_step(self, carry, unused):\n",
    "        emitter_state = carry\n",
    "\n",
    "        # Sample population\n",
    "        genotypes, random_key = self.sample(emitter_state.offspring, emitter_state.random_key)\n",
    "        population = Population.init(genotypes=genotypes)\n",
    "        # Evaluate population\n",
    "        scores, descriptors, extra_scores, random_key = self._rollout_fn(population.genotypes, random_key)\n",
    "        # Update population\n",
    "        offspring, emitter_state = self.update(\n",
    "            emitter_state,\n",
    "            population,\n",
    "            scores,\n",
    "            emitter_state.offspring,\n",
    "        )\n",
    "\n",
    "        # Evaluate population\n",
    "        indices = jnp.arange(self.config.sample_number)\n",
    "        genomes = population.genotypes[indices]\n",
    "\n",
    "        if self.gen_budget == 1:\n",
    "            # split key\n",
    "            random_key, key = jax.random.split(random_key)\n",
    "            f, d, _, _ = self._rollout_fn(genomes, key)\n",
    "            population = population.add_evaluation(indices, f)\n",
    "            pop_fit = f.mean()\n",
    "        else:\n",
    "            # First 2 evals\n",
    "            random_key, key = jax.random.split(random_key)\n",
    "            keys = jax.random.split(key, 2)\n",
    "            # eval\n",
    "            multi_eval, d, _, _ = jax.vmap(\n",
    "                lambda seed: noisy_scoring_fn(genomes, seed),\n",
    "                in_axes=(0),\n",
    "            )(\n",
    "                keys\n",
    "            )\n",
    "            population = population.add_batch_evaluation(indices, multi_eval)\n",
    "\n",
    "            remaining_evals = (self.gen_budget - 2) * self.config.sample_number\n",
    "            if remaining_evals > 0:\n",
    "                while remaining_evals > 0:\n",
    "                    indices = self.select_indices(population, n=self.eval_batches)\n",
    "                    genomes = population.genotypes[indices]\n",
    "                    random_key, key = jax.random.split(random_key)\n",
    "                    f, d, _, _ = self._rollout_fn(genomes, key)\n",
    "                    population = population.add_evaluation(indices, f)\n",
    "                    remaining_evals -= self.eval_batches\n",
    "\n",
    "            pop_fit = population.mean_fitness.mean()\n",
    "\n",
    "        # Update population\n",
    "        scores = population.mean_fitness\n",
    "        offspring, new_emitter_state = self.update(\n",
    "            emitter_state = emitter_state,\n",
    "            population = population,\n",
    "            scores = scores,\n",
    "            parent = emitter_state.offspring,\n",
    "        )\n",
    "\n",
    "        # Add 1 dim to offspring\n",
    "        offspring = jnp.expand_dims(offspring, axis=0)\n",
    "\n",
    "        # Eval true fitness of offspring\n",
    "        offspring_fitnesses, offspring_descriptors, extra_scores, random_key = self._eval_fn(offspring, jax.random.PRNGKey(0))\n",
    "\n",
    "        metrics = {\n",
    "            \"offspring_fitness\": offspring_fitnesses,\n",
    "            \"offspring_descriptors\": offspring_descriptors,\n",
    "            \"mmean_pop_fitness\": pop_fit,\n",
    "            \"center_genome\": offspring[0],\n",
    "        }\n",
    "\n",
    "        new_emitter_state = ESState(\n",
    "            offspring=offspring[0],\n",
    "            generation_count=emitter_state.generation_count + 1,\n",
    "            random_key=random_key,\n",
    "        )\n",
    "\n",
    "        return new_emitter_state, metrics"
   ]
  },
  {
   "cell_type": "code",
   "execution_count": 24,
   "metadata": {},
   "outputs": [],
   "source": [
    "class DynamicResamplingES(SmartResamplingES):\n",
    "    def select_indices(self, population, n=1):\n",
    "        average_std = population.average_std\n",
    "        # sort by highest first\n",
    "        sorted_indices = jnp.argsort(average_std)[::-1]\n",
    "        # select top n\n",
    "        selected_indices = sorted_indices[:n]\n",
    "        return selected_indices"
   ]
  },
  {
   "cell_type": "code",
   "execution_count": 25,
   "metadata": {},
   "outputs": [
    {
     "name": "stdout",
     "output_type": "stream",
     "text": [
      "Dynamic resampling \n",
      "Eval budget: 5 | Eval batch: 10\n",
      "Noise 0 | Max fitness: -0.00\n",
      "Noise 0.001 | Max fitness: -0.00\n",
      "Noise 0.01 | Max fitness: -0.01\n",
      "Noise 0.1 | Max fitness: -0.96\n",
      "Noise 1 | Max fitness: -9.49\n"
     ]
    }
   ],
   "source": [
    "eval_budget = 5\n",
    "eval_batch = 10\n",
    "\n",
    "print(f\"Dynamic resampling \\nEval budget: {eval_budget} | Eval batch: {eval_batch}\")\n",
    "for noise_sigma in [0, 0.001, 0.01, 0.1, 1]:\n",
    "    noisy_scoring_fn = make_noisy(scoring_function, noise_sigma=noise_sigma)\n",
    "\n",
    "    es = DynamicResamplingES(\n",
    "        config=config,\n",
    "        rollout_fn=noisy_scoring_fn,\n",
    "        eval_fn=scoring_fn,\n",
    "        gen_budget=eval_budget,\n",
    "        eval_batches=eval_batch,\n",
    "    )\n",
    "\n",
    "    parent = jnp.ones(n_genes)\n",
    "\n",
    "    es_state, random_key = es.init(\n",
    "        init_genotype=parent,\n",
    "        random_key=jax.random.PRNGKey(0),\n",
    "    )\n",
    "\n",
    "    new_emitter_state, metrics = es.step(es_state, n_gens=n_loops)\n",
    "    fit = metrics[\"offspring_fitness\"]\n",
    "    max_fit = fit.max()\n",
    "    print(f\"Noise {noise_sigma} | Max fitness: {max_fit:.2f}\")\n",
    "\n",
    "    # %matplotlib inline\n",
    "    # fig, ax = plt.subplots(figsize=(10, 5))\n",
    "    # ax.plot(fit)\n",
    "    # ax.set_xlabel(\"Generation\")\n",
    "    # ax.set_ylabel(\"Fitness\")\n",
    "    # plt.title(f\"Fitness with noise sigma {noise_sigma} and {eval_budget} evals\\n Max fitness: {max_fit:.2f}\")\n",
    "    # plt.show()\n"
   ]
  },
  {
   "cell_type": "code",
   "execution_count": null,
   "metadata": {},
   "outputs": [],
   "source": []
  },
  {
   "cell_type": "code",
   "execution_count": 216,
   "metadata": {},
   "outputs": [
    {
     "data": {
      "text/plain": [
       "[<matplotlib.lines.Line2D at 0x7f365cb22fd0>]"
      ]
     },
     "execution_count": 216,
     "metadata": {},
     "output_type": "execute_result"
    },
    {
     "data": {
      "image/png": "[encoded data removed]",
      "text/plain": [
       "<Figure size 640x480 with 1 Axes>"
      ]
     },
     "metadata": {},
     "output_type": "display_data"
    }
   ],
   "source": [
    "import matplotlib.pyplot as plt\n",
    "plt.plot(center_fit)"
   ]
  },
  {
   "cell_type": "code",
   "execution_count": 217,
   "metadata": {},
   "outputs": [
    {
     "data": {
      "image/png": "[encoded data removed]",
      "text/plain": [
       "<Figure size 640x480 with 2 Axes>"
      ]
     },
     "metadata": {},
     "output_type": "display_data"
    }
   ],
   "source": [
    "# scatter plot\n",
    "plt.figure()\n",
    "steps = jnp.arange(n_loops)\n",
    "plt.scatter(jnp.array(centers)[:,0], jnp.array(centers)[:,1], c=steps, cmap='viridis')\n",
    "plt.colorbar()\n",
    "plt.show()"
   ]
  },
  {
   "cell_type": "code",
   "execution_count": null,
   "metadata": {},
   "outputs": [],
   "source": []
  },
  {
   "cell_type": "code",
   "execution_count": 155,
   "metadata": {},
   "outputs": [
    {
     "data": {
      "text/plain": [
       "Array([0, 0, 0, 0, 0, 0, 0, 0, 0, 0], dtype=int32)"
      ]
     },
     "execution_count": 155,
     "metadata": {},
     "output_type": "execute_result"
    }
   ],
   "source": [
    "pop.evaluations"
   ]
  },
  {
   "cell_type": "code",
   "execution_count": 157,
   "metadata": {},
   "outputs": [
    {
     "name": "stdout",
     "output_type": "stream",
     "text": [
      "weights (10,)\n"
     ]
    }
   ],
   "source": [
    "pop = pop.add_batch_evaluation(indices, f)\n",
    "\n",
    "# Update population\n",
    "scores = pop.mean_fitness\n",
    "offspring, new_emitter_state = es.update(\n",
    "    emitter_state = es_state,\n",
    "    population = pop,\n",
    "    scores = scores,\n",
    "    parent = parent,\n",
    ")"
   ]
  },
  {
   "cell_type": "code",
   "execution_count": 158,
   "metadata": {},
   "outputs": [
    {
     "data": {
      "text/plain": [
       "Array([ 7.9769790e-02, -5.2778982e-05, -4.5356005e-02,  8.6363174e-02,\n",
       "       -3.4983918e-02], dtype=float32)"
      ]
     },
     "execution_count": 158,
     "metadata": {},
     "output_type": "execute_result"
    }
   ],
   "source": [
    "offspring"
   ]
  },
  {
   "cell_type": "code",
   "execution_count": 126,
   "metadata": {},
   "outputs": [
    {
     "data": {
      "text/plain": [
       "Array([[ 0.18546747,  0.08980529, -0.05096747, -0.01913436, -0.05588307],\n",
       "       [ 0.14093108, -0.14872812,  0.07834691,  0.07007926,  0.00179523],\n",
       "       [-0.25857216, -0.05018541,  0.08676722,  0.04120107, -0.0359513 ],\n",
       "       [ 0.12125856, -0.05274253, -0.06951106,  0.00791412, -0.03536552],\n",
       "       [-0.02252335, -0.02596724, -0.10178605, -0.01946759, -0.11107538],\n",
       "       [-0.06741806, -0.31712547, -0.0835046 ,  0.18132459, -0.08914001],\n",
       "       [ 0.09041903, -0.05459335,  0.0742484 , -0.05055738, -0.12403842],\n",
       "       [-0.07762434,  0.01526044,  0.18720882,  0.09146019, -0.02538448],\n",
       "       [-0.06570152,  0.04072116,  0.0344565 ,  0.16349545, -0.10023405],\n",
       "       [ 0.22829516, -0.00177734, -0.1956168 ,  0.05904857,  0.01998603]],      dtype=float32)"
      ]
     },
     "execution_count": 126,
     "metadata": {},
     "output_type": "execute_result"
    }
   ],
   "source": [
    "pop.genotypes"
   ]
  },
  {
   "cell_type": "code",
   "execution_count": 123,
   "metadata": {},
   "outputs": [
    {
     "name": "stdout",
     "output_type": "stream",
     "text": [
      "sample_number 10\n",
      "sample_noise (10, 100)\n",
      "networks (10, 100)\n",
      "networks (10, 100)\n"
     ]
    },
    {
     "data": {
      "text/plain": [
       "(10, 100)"
      ]
     },
     "execution_count": 123,
     "metadata": {},
     "output_type": "execute_result"
    }
   ],
   "source": [
    "\n",
    "genotypes.shape"
   ]
  },
  {
   "cell_type": "code",
   "execution_count": 124,
   "metadata": {},
   "outputs": [
    {
     "ename": "TypeError",
     "evalue": "update() missing 2 required positional arguments: 'scores' and 'parent'",
     "output_type": "error",
     "traceback": [
      "\u001b[0;31m---------------------------------------------------------------------------\u001b[0m",
      "\u001b[0;31mTypeError\u001b[0m                                 Traceback (most recent call last)",
      "Cell \u001b[0;32mIn[124], line 1\u001b[0m\n\u001b[0;32m----> 1\u001b[0m es\u001b[39m.\u001b[39;49mupdate(es_state, pop)\n",
      "\u001b[0;31mTypeError\u001b[0m: update() missing 2 required positional arguments: 'scores' and 'parent'"
     ]
    }
   ],
   "source": [
    "es.update(es_state, pop)"
   ]
  },
  {
   "cell_type": "code",
   "execution_count": 61,
   "metadata": {},
   "outputs": [
    {
     "data": {
      "text/plain": [
       "(1000, 100)"
      ]
     },
     "execution_count": 61,
     "metadata": {},
     "output_type": "execute_result"
    }
   ],
   "source": [
    "genome = jnp.zeros(num_dimensions)\n",
    "# reproduce 10 times\n",
    "genomes = jnp.repeat(genome[None, :], 1000, axis=0)\n",
    "genomes.shape"
   ]
  },
  {
   "cell_type": "code",
   "execution_count": 62,
   "metadata": {},
   "outputs": [
    {
     "data": {
      "text/plain": [
       "(Array(-419.43048, dtype=float32), Array(6.1035156e-05, dtype=float32))"
      ]
     },
     "execution_count": 62,
     "metadata": {},
     "output_type": "execute_result"
    }
   ],
   "source": [
    "f, d, _, _ = scoring_fn(genomes, jax.random.PRNGKey(0))\n",
    "f.mean(), f.std()"
   ]
  },
  {
   "cell_type": "code",
   "execution_count": 63,
   "metadata": {},
   "outputs": [
    {
     "data": {
      "text/plain": [
       "(Array(-418.81766, dtype=float32), Array(10.113372, dtype=float32))"
      ]
     },
     "execution_count": 63,
     "metadata": {},
     "output_type": "execute_result"
    }
   ],
   "source": [
    "noisy_scoring_fn = make_noisy(scoring_function, noise_sigma=10)\n",
    "f, d, _, _ = noisy_scoring_fn(genomes, jax.random.PRNGKey(0))\n",
    "f.mean(), f.std()"
   ]
  },
  {
   "cell_type": "code",
   "execution_count": 64,
   "metadata": {},
   "outputs": [],
   "source": [
    "pop_size = 10\n",
    "n_genes = 100\n",
    "noise_sigma = 100\n",
    "\n",
    "noisy_scoring_fn = make_noisy(scoring_function, noise_sigma=noise_sigma)\n",
    "\n",
    "\n",
    "genotype = jnp.ones(n_genes)\n",
    "pop = Population.init_default(pop_size, genotype)"
   ]
  },
  {
   "cell_type": "code",
   "execution_count": 65,
   "metadata": {},
   "outputs": [
    {
     "data": {
      "text/plain": [
       "(10, 100)"
      ]
     },
     "execution_count": 65,
     "metadata": {},
     "output_type": "execute_result"
    }
   ],
   "source": [
    "indices = [1, 5, 9]\n",
    "indices = jnp.array(indices)\n",
    "\n",
    "indices = jnp.arange(pop_size)\n",
    "\n",
    "# Get genomes\n",
    "genomes = pop.genotypes[indices]\n",
    "genomes.shape"
   ]
  },
  {
   "cell_type": "code",
   "execution_count": 66,
   "metadata": {},
   "outputs": [
    {
     "data": {
      "text/plain": [
       "Array([-458.24304, -423.91757, -623.703  , -411.4981 , -386.0805 ,\n",
       "       -339.83066, -563.5502 , -588.7302 , -456.79962, -573.44183],      dtype=float32)"
      ]
     },
     "execution_count": 66,
     "metadata": {},
     "output_type": "execute_result"
    }
   ],
   "source": [
    "f, d, _, _ = noisy_scoring_fn(genomes, jax.random.PRNGKey(0))\n",
    "f"
   ]
  },
  {
   "cell_type": "code",
   "execution_count": 67,
   "metadata": {},
   "outputs": [
    {
     "data": {
      "text/plain": [
       "Array([-458.24304, -423.91757, -623.703  , -411.4981 , -386.0805 ,\n",
       "       -339.83066, -563.5502 , -588.7302 , -456.79962, -573.44183],      dtype=float32)"
      ]
     },
     "execution_count": 67,
     "metadata": {},
     "output_type": "execute_result"
    }
   ],
   "source": [
    "pop = pop.add_evaluation(indices, f)\n",
    "pop.mean_fitness"
   ]
  },
  {
   "cell_type": "code",
   "execution_count": 68,
   "metadata": {},
   "outputs": [],
   "source": [
    "key = jax.random.PRNGKey(0)\n",
    "n_keys = 5\n",
    "keys = jax.random.split(key, n_keys)\n",
    "\n",
    "multi_eval = jax.vmap(\n",
    "    lambda seed: noisy_scoring_fn(genomes, seed),\n",
    "    in_axes=(0),\n",
    ")(\n",
    "    keys\n",
    ")"
   ]
  },
  {
   "cell_type": "code",
   "execution_count": 69,
   "metadata": {},
   "outputs": [
    {
     "data": {
      "text/plain": [
       "Array([[-415.21292, -370.8639 , -387.21613, -488.34027, -321.62238,\n",
       "        -347.68195, -332.86102, -449.73804, -437.2649 , -624.2903 ],\n",
       "       [-482.19757, -241.51247, -390.74802, -416.24878, -586.7875 ,\n",
       "        -439.37436, -243.76979, -526.5892 , -380.16022, -311.34586],\n",
       "       [-540.3326 , -481.07352, -440.29495, -642.423  , -344.13007,\n",
       "        -576.8252 , -425.48   , -614.4184 , -333.1338 , -497.5859 ],\n",
       "       [-278.40436, -291.87744, -377.46762, -220.04112, -217.50337,\n",
       "        -342.4496 , -332.22675, -199.67677, -537.60004, -363.89874],\n",
       "       [-280.65036, -370.188  , -421.4763 , -335.7251 , -512.48145,\n",
       "        -353.58386, -490.0584 , -336.02908, -426.41205, -531.24194]],      dtype=float32)"
      ]
     },
     "execution_count": 69,
     "metadata": {},
     "output_type": "execute_result"
    }
   ],
   "source": [
    "multi_eval[0]"
   ]
  },
  {
   "cell_type": "code",
   "execution_count": 70,
   "metadata": {},
   "outputs": [],
   "source": [
    "new_pop = pop.add_batch_evaluation(indices, multi_eval[0])"
   ]
  },
  {
   "cell_type": "code",
   "execution_count": 71,
   "metadata": {},
   "outputs": [
    {
     "data": {
      "text/plain": [
       "Array([-409.17352, -363.23883, -440.151  , -419.04608, -394.76755,\n",
       "       -399.9576 , -397.99106, -452.53027, -428.56177, -483.63412],      dtype=float32)"
      ]
     },
     "execution_count": 71,
     "metadata": {},
     "output_type": "execute_result"
    }
   ],
   "source": [
    "new_pop.mean_fitness"
   ]
  },
  {
   "cell_type": "code",
   "execution_count": 76,
   "metadata": {},
   "outputs": [
    {
     "ename": "TypeError",
     "evalue": "__init__() got an unexpected keyword argument 'scoring_fn'",
     "output_type": "error",
     "traceback": [
      "\u001b[0;31m---------------------------------------------------------------------------\u001b[0m",
      "\u001b[0;31mTypeError\u001b[0m                                 Traceback (most recent call last)",
      "Cell \u001b[0;32mIn[76], line 16\u001b[0m\n\u001b[1;32m      8\u001b[0m config \u001b[39m=\u001b[39m CanonicalESConfig(\n\u001b[1;32m      9\u001b[0m     sample_sigma\u001b[39m=\u001b[39m\u001b[39m0.1\u001b[39m,\n\u001b[1;32m     10\u001b[0m     sample_number\u001b[39m=\u001b[39mpop_size,\n\u001b[1;32m     11\u001b[0m     canonical_mu\u001b[39m=\u001b[39m\u001b[39mint\u001b[39m(pop_size\u001b[39m/\u001b[39m\u001b[39m2\u001b[39m),\n\u001b[1;32m     12\u001b[0m )\n\u001b[1;32m     14\u001b[0m noisy_scoring_fn \u001b[39m=\u001b[39m make_noisy(scoring_function, noise_sigma\u001b[39m=\u001b[39mnoise_sigma)\n\u001b[0;32m---> 16\u001b[0m es \u001b[39m=\u001b[39m ES(\n\u001b[1;32m     17\u001b[0m     config\u001b[39m=\u001b[39;49mconfig,\n\u001b[1;32m     18\u001b[0m     rollout_fn\u001b[39m=\u001b[39;49mnoisy_scoring_fn,\n\u001b[1;32m     19\u001b[0m     scoring_fn\u001b[39m=\u001b[39;49mscoring_fn,\n\u001b[1;32m     20\u001b[0m )\n\u001b[1;32m     22\u001b[0m init_genotype \u001b[39m=\u001b[39m jnp\u001b[39m.\u001b[39mones(n_genes)\n\u001b[1;32m     23\u001b[0m es_state \u001b[39m=\u001b[39m es\u001b[39m.\u001b[39minit(\n\u001b[1;32m     24\u001b[0m     init_genotype\u001b[39m=\u001b[39minit_genotype,\n\u001b[1;32m     25\u001b[0m     random_key\u001b[39m=\u001b[39mjax\u001b[39m.\u001b[39mrandom\u001b[39m.\u001b[39mPRNGKey(\u001b[39m0\u001b[39m),\n\u001b[1;32m     26\u001b[0m )\n",
      "\u001b[0;31mTypeError\u001b[0m: __init__() got an unexpected keyword argument 'scoring_fn'"
     ]
    }
   ],
   "source": []
  },
  {
   "cell_type": "code",
   "execution_count": null,
   "metadata": {},
   "outputs": [],
   "source": []
  }
 ],
 "metadata": {
  "kernelspec": {
   "display_name": "gpjax_env",
   "language": "python",
   "name": "python3"
  },
  "language_info": {
   "codemirror_mode": {
    "name": "ipython",
    "version": 3
   },
   "file_extension": ".py",
   "mimetype": "text/x-python",
   "name": "python",
   "nbconvert_exporter": "python",
   "pygments_lexer": "ipython3",
   "version": "3.9.16"
  },
  "orig_nbformat": 4
 },
 "nbformat": 4,
 "nbformat_minor": 2
}
