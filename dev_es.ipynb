{
 "cells": [
  {
   "cell_type": "code",
   "execution_count": 1,
   "metadata": {},
   "outputs": [],
   "source": [
    "# Example for Vanilla-ES directly inspired from the MAP-Elites example\n",
    "\n",
    "import functools\n",
    "import time\n",
    "from typing import Dict, Tuple\n",
    "\n",
    "import jax\n",
    "import jax.numpy as jnp\n",
    "\n",
    "from qdax import environments\n",
    "from qdax.core.containers.mapelites_repertoire import compute_cvt_centroids\n",
    "from qdax.core.emitters.vanilla_es_emitter import VanillaESConfig, VanillaESEmitter\n",
    "from qdax.core.map_elites import MAPElites\n",
    "from qdax.core.neuroevolution.networks.networks import MLP\n",
    "from qdax.tasks.brax_envs import (\n",
    "    make_policy_network_play_step_fn_brax,\n",
    "    reset_based_scoring_function_brax_envs,\n",
    ")\n",
    "from qdax.utils.metrics import CSVLogger, default_qd_metrics\n",
    "from qdax.core.rl_es_parts.es_utils import ES, default_es_metrics\n",
    "\n",
    "from qdax.utils.plotting import plot_map_elites_results\n",
    "%matplotlib inline"
   ]
  },
  {
   "cell_type": "code",
   "execution_count": 2,
   "metadata": {},
   "outputs": [],
   "source": [
    "##############\n",
    "# Parameters #\n",
    "\n",
    "# General parameters\n",
    "env_name = \"ant_uni\"  # @param['ant_uni', 'hopper_uni', 'walker2d_uni', 'halfcheetah_uni', 'humanoid_uni', 'ant_omni', 'humanoid_omni']\n",
    "episode_length = 100  # Number of steps per episode\n",
    "num_iterations = 100  # Generations\n",
    "seed = 42  # Random seed\n",
    "policy_hidden_layer_sizes = (64, 64)  # Policy network hidden layer sizes\n",
    "\n",
    "# MAP-Elites Parameters\n",
    "num_init_cvt_samples = 50000 # Number of samples to use for CVT initialization\n",
    "num_centroids = 1024  # Number of centroids\n",
    "min_bd = 0.0  # Minimum value for the behavior descriptor\n",
    "max_bd = 1.0  # Maximum value for the behavior descriptor\n",
    "\n",
    "# ES Parameters\n",
    "sample_number = 512  # Population size\n",
    "sample_sigma = 0.01  # Standard deviation of the Gaussian distribution\n",
    "sample_mirror = True  # Mirror sampling in ES\n",
    "sample_rank_norm = True  # Rank normalization in ES\n",
    "adam_optimizer = True  # Use Adam optimizer instead of SGD\n",
    "learning_rate = 0.01  # Learning rate for Adam optimizer\n",
    "l2_coefficient = 0.02  # L2 coefficient for Adam optimizer\n",
    "\n",
    "# NSES Parameters\n",
    "# WARNING: BD-based NSES \n",
    "nses_emitter = False  # Use NSES instead of ES\n",
    "novelty_nearest_neighbors = 10  # Number of nearest neighbors to use for novelty computation"
   ]
  },
  {
   "cell_type": "code",
   "execution_count": 3,
   "metadata": {},
   "outputs": [],
   "source": [
    "# TD3 config\n",
    "episode_length: int = 1000\n",
    "batch_size: int = 256\n",
    "policy_delay: int = 2\n",
    "grad_updates_per_step: float = 1\n",
    "soft_tau_update: float = 0.005\n",
    "critic_hidden_layer_size: Tuple[int, ...] = (256, 256)\n",
    "policy_hidden_layer_size: Tuple[int, ...] = (256, 256)\n",
    "\n",
    "num_loops = 10\n",
    "print_freq = 1"
   ]
  },
  {
   "cell_type": "code",
   "execution_count": 4,
   "metadata": {},
   "outputs": [],
   "source": [
    "# Init environment\n",
    "env = environments.create(env_name, episode_length=episode_length)\n",
    "\n",
    "# Init a random key\n",
    "random_key = jax.random.PRNGKey(seed)\n",
    "\n",
    "# Init policy network\n",
    "policy_layer_sizes = policy_hidden_layer_sizes + (env.action_size,)\n",
    "policy_network = MLP(\n",
    "    layer_sizes=policy_layer_sizes,\n",
    "    kernel_init=jax.nn.initializers.lecun_uniform(),\n",
    "    final_activation=jnp.tanh,\n",
    ")"
   ]
  },
  {
   "cell_type": "code",
   "execution_count": 5,
   "metadata": {},
   "outputs": [],
   "source": [
    "\n",
    "# Init population of controllers\n",
    "random_key, subkey = jax.random.split(random_key)\n",
    "keys = jax.random.split(subkey, num=1)\n",
    "fake_batch = jnp.zeros(shape=(1, env.observation_size))\n",
    "init_variables = jax.vmap(policy_network.init)(keys, fake_batch)\n",
    "\n",
    "# Play reset fn\n",
    "# WARNING: use \"env.reset\" for stochastic environment,\n",
    "# use \"lambda random_key: init_state\" for deterministic environment\n",
    "play_reset_fn = env.reset\n",
    "\n",
    "# Prepare the scoring function\n",
    "bd_extraction_fn = environments.behavior_descriptor_extractor[env_name]\n",
    "scoring_fn = functools.partial(\n",
    "    reset_based_scoring_function_brax_envs,\n",
    "    episode_length=episode_length,\n",
    "    play_reset_fn=play_reset_fn,\n",
    "    play_step_fn=make_policy_network_play_step_fn_brax(env, policy_network),\n",
    "    behavior_descriptor_extractor=bd_extraction_fn,\n",
    ")\n",
    "\n",
    "# Get minimum reward value to make sure qd_score are positive\n",
    "reward_offset = environments.reward_offset[env_name]\n",
    "\n",
    "# Define a metrics function\n",
    "metrics_function = functools.partial(\n",
    "    default_es_metrics,\n",
    "    qd_offset=reward_offset * episode_length,\n",
    ")"
   ]
  },
  {
   "cell_type": "code",
   "execution_count": 49,
   "metadata": {},
   "outputs": [
    {
     "name": "stdout",
     "output_type": "stream",
     "text": [
      "Shapes [(1, 64), (1, 87, 64), (1, 64), (1, 64, 64), (1, 8), (1, 64, 8)]\n",
      "Network size: 10312\n",
      "[64, 5632, 5696, 9792, 9800]\n",
      "Shapes [(1, 64), (1, 87, 64), (1, 64), (1, 64, 64), (1, 8), (1, 64, 8)]\n"
     ]
    }
   ],
   "source": [
    "import jax\n",
    "import jax.numpy as jnp\n",
    "from jax.tree_util import tree_flatten, tree_unflatten, tree_map\n",
    "\n",
    "\n",
    "# @jax.jit\n",
    "def flatten(network):\n",
    "    \"\"\"Flatten a network into a single vector of floats\"\"\"\n",
    "    flat_variables, tree_def = tree_flatten(network)\n",
    "    # print(\"Flatten\", flat_variables)\n",
    "    shapes = [x.shape for x in flat_variables]\n",
    "    print(\"Shapes\", shapes)\n",
    "    \n",
    "    vect = jnp.concatenate([jnp.ravel(x) for x in flat_variables])\n",
    "    sizes = [x.size for x in flat_variables]\n",
    "    sizes = jnp.array(sizes)\n",
    "    return vect, tree_def, sizes, shapes\n",
    "\n",
    "# @jax.jit\n",
    "def unflaten(genome, tree_def, sizes, shapes):\n",
    "    \"\"\"Unflatten a vector of floats into a network\"\"\"\n",
    "    indices = jnp.cumsum(sizes)[:-1]\n",
    "    indices = indices.tolist()\n",
    "    print(indices)\n",
    "    split_genome = jnp.split(genome, indices)\n",
    "    # Reshape to the original shape\n",
    "    split_genome = [jnp.reshape(x, s) for x, s in zip(split_genome, shapes)]\n",
    "\n",
    "    # Unflatten the tree\n",
    "    new_net = tree_unflatten(tree_def, split_genome)\n",
    "    return new_net\n",
    "    \n",
    "\n",
    "genome, tree_def, sizes, shapes = flatten(init_variables)\n",
    "net_size = len(genome)\n",
    "print(\"Network size:\", net_size)\n",
    "\n",
    "random = jax.random.PRNGKey(42)\n",
    "genome = jax.random.normal(random, (net_size,))\n",
    "\n",
    "random_net = unflaten(genome, tree_def, sizes, shapes)\n",
    "\n",
    "after_genome, after_tree_def, after_sizes, after_shapes = flatten(random_net)\n",
    "\n",
    "assert jnp.all(genome == after_genome)"
   ]
  },
  {
   "cell_type": "code",
   "execution_count": 50,
   "metadata": {},
   "outputs": [
    {
     "data": {
      "text/plain": [
       "(1, 87, 64)"
      ]
     },
     "execution_count": 50,
     "metadata": {},
     "output_type": "execute_result"
    }
   ],
   "source": [
    "init_variables[\"params\"][\"Dense_0\"][\"kernel\"].shape"
   ]
  },
  {
   "cell_type": "code",
   "execution_count": 53,
   "metadata": {},
   "outputs": [
    {
     "name": "stdout",
     "output_type": "stream",
     "text": [
      "Shapes [(1, 64), (1, 87, 64), (1, 64), (1, 64, 64), (1, 8), (1, 64, 8)]\n",
      "[64, 5632, 5696, 9792, 9800]\n"
     ]
    },
    {
     "data": {
      "text/plain": [
       "(1, 87, 64)"
      ]
     },
     "execution_count": 53,
     "metadata": {},
     "output_type": "execute_result"
    }
   ],
   "source": [
    "genome, tree_def, sizes, shapes = flatten(init_variables)\n",
    "new_net = unflaten(genome, tree_def, sizes, shapes)\n",
    "new_net[\"params\"][\"Dense_0\"][\"kernel\"].shape"
   ]
  },
  {
   "cell_type": "code",
   "execution_count": 1,
   "metadata": {},
   "outputs": [
    {
     "name": "stdout",
     "output_type": "stream",
     "text": [
      "Result: [[2 3 4]\n",
      " [5 6 7]]\n"
     ]
    }
   ],
   "source": [
    "import jax\n",
    "import jax.numpy as jnp\n",
    "\n",
    "# Define the function to be mapped\n",
    "def my_func(x, y):\n",
    "    return x + y\n",
    "\n",
    "# Define the input array of arrays\n",
    "arr = jnp.array([[1, 2, 3], [4, 5, 6]])\n",
    "\n",
    "# Apply vmap to the function to loop over the first axis of the input array\n",
    "mapped_func = jax.vmap(my_func, in_axes=(0, None))\n",
    "\n",
    "# Apply the mapped function to the input array\n",
    "result = mapped_func(arr, 1)\n",
    "\n",
    "# Print the result\n",
    "print(\"Result:\", result)"
   ]
  },
  {
   "cell_type": "markdown",
   "metadata": {},
   "source": []
  },
  {
   "cell_type": "code",
   "execution_count": null,
   "metadata": {},
   "outputs": [],
   "source": []
  },
  {
   "cell_type": "code",
   "execution_count": 27,
   "metadata": {},
   "outputs": [
    {
     "data": {
      "text/plain": [
       "PyTreeDef(CustomNode(FrozenDict[()], [{'params': {'Dense_0': {'bias': *, 'kernel': *}, 'Dense_1': {'bias': *, 'kernel': *}, 'Dense_2': {'bias': *, 'kernel': *}}}]))"
      ]
     },
     "execution_count": 27,
     "metadata": {},
     "output_type": "execute_result"
    }
   ],
   "source": [
    "tree_def"
   ]
  },
  {
   "cell_type": "code",
   "execution_count": null,
   "metadata": {},
   "outputs": [],
   "source": []
  },
  {
   "cell_type": "code",
   "execution_count": 12,
   "metadata": {},
   "outputs": [],
   "source": [
    "from qdax.core.es_parts.open_es import OpenESEmitter, OpenESConfig\n",
    "\n",
    "es_config = OpenESConfig(\n",
    "    nses_emitter=nses_emitter,\n",
    "    sample_number=sample_number,\n",
    "    sample_sigma=sample_sigma,\n",
    "    sample_mirror=sample_mirror,\n",
    "    sample_rank_norm=sample_rank_norm,\n",
    "    adam_optimizer=adam_optimizer,\n",
    "    learning_rate=learning_rate,\n",
    "    l2_coefficient=l2_coefficient,\n",
    "    novelty_nearest_neighbors=novelty_nearest_neighbors,\n",
    ")\n",
    "\n",
    "es_emitter = OpenESEmitter(\n",
    "    config=es_config,\n",
    "    scoring_fn=scoring_fn,\n",
    "    total_generations=num_iterations,\n",
    "    num_descriptors=env.behavior_descriptor_length,\n",
    ")"
   ]
  },
  {
   "cell_type": "code",
   "execution_count": 13,
   "metadata": {},
   "outputs": [],
   "source": [
    "import numpy as np"
   ]
  },
  {
   "cell_type": "code",
   "execution_count": 14,
   "metadata": {},
   "outputs": [],
   "source": [
    "def scan(f, init, xs, length=None):\n",
    "  if xs is None:\n",
    "    xs = [None] * length\n",
    "  carry = init\n",
    "  ys = []\n",
    "  for x in xs:\n",
    "    carry, y = f(carry, x)\n",
    "    ys.append(y)\n",
    "  return carry, np.stack(ys)\n"
   ]
  },
  {
   "cell_type": "code",
   "execution_count": 15,
   "metadata": {},
   "outputs": [
    {
     "name": "stdout",
     "output_type": "stream",
     "text": [
      "10 [ 1  2  3  4  5  6  7  8  9 10]\n"
     ]
    }
   ],
   "source": [
    "def f(genome, x):\n",
    "    return genome + 1, genome + 1\n",
    "\n",
    "init = 0\n",
    "xs = np.arange(10)\n",
    "carry, ys = scan(f, init, xs)\n",
    "print(carry, ys)"
   ]
  },
  {
   "cell_type": "code",
   "execution_count": 7,
   "metadata": {},
   "outputs": [
    {
     "data": {
      "text/plain": [
       "DeviceArray(6, dtype=int32, weak_type=True)"
      ]
     },
     "execution_count": 7,
     "metadata": {},
     "output_type": "execute_result"
    }
   ],
   "source": [
    "import jax\n",
    "import jax.numpy as jnp\n",
    "\n",
    "def f(x, y, z):\n",
    "    return x + y + z\n",
    "\n",
    "def g(x, y, z):\n",
    "    return -(x + y + z)\n",
    "\n",
    "def c(x, y, z):\n",
    "    key = jax.random.PRNGKey(0)\n",
    "    cond = jax.random.choice(key, jnp.array([True, False]))\n",
    "\n",
    "    return jax.lax.cond(cond, \n",
    "                 f,\n",
    "                 g, \n",
    "                 x, \n",
    "                 y,\n",
    "                 z)\n",
    "    \n",
    "c(1, 2, 3)"
   ]
  },
  {
   "cell_type": "code",
   "execution_count": 17,
   "metadata": {},
   "outputs": [
    {
     "data": {
      "text/plain": [
       "15.753333543850154"
      ]
     },
     "execution_count": 17,
     "metadata": {},
     "output_type": "execute_result"
    }
   ],
   "source": [
    "import numpy\n",
    "# Random normal vector \n",
    "n = 25000\n",
    "sigma = 0.1\n",
    "x = numpy.random.normal(0, 1, n) * sigma\n",
    "# get norm\n",
    "norm = numpy.linalg.norm(x)\n",
    "norm"
   ]
  }
 ],
 "metadata": {
  "kernelspec": {
   "display_name": "qdax_env",
   "language": "python",
   "name": "python3"
  },
  "language_info": {
   "codemirror_mode": {
    "name": "ipython",
    "version": 3
   },
   "file_extension": ".py",
   "mimetype": "text/x-python",
   "name": "python",
   "nbconvert_exporter": "python",
   "pygments_lexer": "ipython3",
   "version": "3.9.16"
  },
  "orig_nbformat": 4
 },
 "nbformat": 4,
 "nbformat_minor": 2
}
