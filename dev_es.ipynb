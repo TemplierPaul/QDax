{
 "cells": [
  {
   "cell_type": "code",
   "execution_count": null,
   "metadata": {},
   "outputs": [],
   "source": [
    "# Example for Vanilla-ES directly inspired from the MAP-Elites example\n",
    "\n",
    "import functools\n",
    "import time\n",
    "from typing import Dict\n",
    "\n",
    "import jax\n",
    "import jax.numpy as jnp\n",
    "\n",
    "from qdax import environments\n",
    "from qdax.core.containers.mapelites_repertoire import compute_cvt_centroids\n",
    "from qdax.core.emitters.vanilla_es_emitter import VanillaESConfig, VanillaESEmitter\n",
    "from qdax.core.map_elites import MAPElites\n",
    "from qdax.core.neuroevolution.networks.networks import MLP\n",
    "from qdax.tasks.brax_envs import (\n",
    "    make_policy_network_play_step_fn_brax,\n",
    "    reset_based_scoring_function_brax_envs,\n",
    ")\n",
    "from qdax.utils.metrics import CSVLogger, default_qd_metrics\n",
    "from qdax.utils.plotting import plot_map_elites_results\n",
    "%matplotlib inline"
   ]
  },
  {
   "cell_type": "code",
   "execution_count": null,
   "metadata": {},
   "outputs": [],
   "source": [
    "##############\n",
    "# Parameters #\n",
    "\n",
    "# General parameters\n",
    "env_name = \"ant_uni\"  # @param['ant_uni', 'hopper_uni', 'walker2d_uni', 'halfcheetah_uni', 'humanoid_uni', 'ant_omni', 'humanoid_omni']\n",
    "episode_length = 100  # Number of steps per episode\n",
    "num_iterations = 100  # Generations\n",
    "seed = 42  # Random seed\n",
    "policy_hidden_layer_sizes = (128, 128)  # Policy network hidden layer sizes\n",
    "\n",
    "# MAP-Elites Parameters\n",
    "num_init_cvt_samples = 50000 # Number of samples to use for CVT initialization\n",
    "num_centroids = 1024  # Number of centroids\n",
    "min_bd = 0.0  # Minimum value for the behavior descriptor\n",
    "max_bd = 1.0  # Maximum value for the behavior descriptor\n",
    "\n",
    "# ES Parameters\n",
    "sample_number = 512  # Population size\n",
    "sample_sigma = 0.01  # Standard deviation of the Gaussian distribution\n",
    "sample_mirror = True  # Mirror sampling in ES\n",
    "sample_rank_norm = True  # Rank normalization in ES\n",
    "adam_optimizer = True  # Use Adam optimizer instead of SGD\n",
    "learning_rate = 0.01  # Learning rate for Adam optimizer\n",
    "l2_coefficient = 0.02  # L2 coefficient for Adam optimizer\n",
    "\n",
    "# NSES Parameters\n",
    "# WARNING: BD-based NSES \n",
    "nses_emitter = False  # Use NSES instead of ES\n",
    "novelty_nearest_neighbors = 10  # Number of nearest neighbors to use for novelty computation"
   ]
  },
  {
   "cell_type": "code",
   "execution_count": 1,
   "metadata": {},
   "outputs": [],
   "source": [
    "import jax.numpy as jnp\n",
    "import jax"
   ]
  },
  {
   "cell_type": "code",
   "execution_count": 2,
   "metadata": {},
   "outputs": [
    {
     "data": {
      "text/plain": [
       "DeviceArray([3, 2, 0, 1, 4, 5], dtype=int32)"
      ]
     },
     "execution_count": 2,
     "metadata": {},
     "output_type": "execute_result"
    }
   ],
   "source": [
    "mu = 3\n",
    "lam = 6\n",
    "\n",
    "scores = jnp.array([30, 40, 20, 10, 50, 60])\n",
    "ranking_indices = jnp.argsort(scores, axis=0)\n",
    "ranking_indices"
   ]
  },
  {
   "cell_type": "code",
   "execution_count": 3,
   "metadata": {},
   "outputs": [
    {
     "data": {
      "text/plain": [
       "DeviceArray([4, 3, 5, 6, 2, 1], dtype=int32)"
      ]
     },
     "execution_count": 3,
     "metadata": {},
     "output_type": "execute_result"
    }
   ],
   "source": [
    "ranks = jnp.argsort(ranking_indices, axis=0) \n",
    "ranks = lam - ranks\n",
    "ranks"
   ]
  },
  {
   "cell_type": "code",
   "execution_count": 5,
   "metadata": {},
   "outputs": [
    {
     "name": "stdout",
     "output_type": "stream",
     "text": [
      "[0.         0.15415072 0.         0.         0.55961585 1.252763  ]\n"
     ]
    },
    {
     "data": {
      "text/plain": [
       "DeviceArray([0.        , 0.07838719, 0.        , 0.        , 0.28457028,\n",
       "             0.6370426 ], dtype=float32)"
      ]
     },
     "execution_count": 5,
     "metadata": {},
     "output_type": "execute_result"
    }
   ],
   "source": [
    "# w = jnp.log(mu+0.5) - jnp.log(lam - ranks)\n",
    "# print(w)\n",
    "w = jnp.where(ranks <= mu, jnp.log(mu+0.5) - jnp.log(ranks), 0) \n",
    "print(w)\n",
    "w /= jnp.sum(w)\n",
    "w"
   ]
  }
 ],
 "metadata": {
  "kernelspec": {
   "display_name": "qdax_env",
   "language": "python",
   "name": "python3"
  },
  "language_info": {
   "codemirror_mode": {
    "name": "ipython",
    "version": 3
   },
   "file_extension": ".py",
   "mimetype": "text/x-python",
   "name": "python",
   "nbconvert_exporter": "python",
   "pygments_lexer": "ipython3",
   "version": "3.9.16"
  },
  "orig_nbformat": 4
 },
 "nbformat": 4,
 "nbformat_minor": 2
}
