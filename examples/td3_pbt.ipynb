{
 "cells": [
  {
   "cell_type": "code",
   "execution_count": 1,
   "id": "bf95707f",
   "metadata": {
    "pycharm": {
     "name": "#%%\n"
    }
   },
   "outputs": [],
   "source": [
    "from typing import Tuple\n",
    "\n",
    "import jax\n",
    "import jax.numpy as jnp\n",
    "from tqdm import tqdm\n",
    "\n",
    "from qdax import environments\n",
    "from qdax.baselines.pbt import PBT\n",
    "from qdax.baselines.td3_pbt import PBTTD3, PBTTD3Config"
   ]
  },
  {
   "cell_type": "code",
   "execution_count": 2,
   "id": "15a43429",
   "metadata": {
    "pycharm": {
     "name": "#%%\n"
    }
   },
   "outputs": [],
   "source": [
    "jax.config.update(\"jax_platform_name\", \"cpu\")"
   ]
  },
  {
   "cell_type": "code",
   "execution_count": 3,
   "id": "32d15301",
   "metadata": {
    "pycharm": {
     "name": "#%%\n"
    }
   },
   "outputs": [
    {
     "name": "stdout",
     "output_type": "stream",
     "text": [
      "Detected the following 1 device(s): [GpuDevice(id=0, process_index=0)]\n"
     ]
    }
   ],
   "source": [
    "devices = jax.devices(\"gpu\")\n",
    "num_devices = len(devices)\n",
    "print(f\"Detected the following {num_devices} device(s): {devices}\")"
   ]
  },
  {
   "cell_type": "code",
   "execution_count": 4,
   "id": "7520b673",
   "metadata": {
    "pycharm": {
     "name": "#%%\n"
    }
   },
   "outputs": [],
   "source": [
    "env_name = \"ant\"\n",
    "seed = 0\n",
    "env_batch_size = 250\n",
    "population_size_per_device = 3\n",
    "population_size = population_size_per_device * num_devices\n",
    "num_steps = 10000\n",
    "warmup_steps = 0\n",
    "buffer_size = 100000\n",
    "\n",
    "# PBT Config\n",
    "num_best_to_replace_from = 1\n",
    "num_worse_to_replace = 1\n",
    "\n",
    "# TD3 config\n",
    "episode_length: int = 1000\n",
    "batch_size: int = 256\n",
    "policy_delay: int = 2\n",
    "grad_updates_per_step: float = 1\n",
    "soft_tau_update: float = 0.005\n",
    "critic_hidden_layer_size: Tuple[int, ...] = (256, 256)\n",
    "policy_hidden_layer_size: Tuple[int, ...] = (256, 256)\n",
    "\n",
    "num_loops = 10\n",
    "print_freq = 1"
   ]
  },
  {
   "cell_type": "code",
   "execution_count": 5,
   "id": "c3718a4c",
   "metadata": {
    "pycharm": {
     "name": "#%%\n"
    }
   },
   "outputs": [
    {
     "name": "stdout",
     "output_type": "stream",
     "text": [
      "CPU times: user 78.5 ms, sys: 1.27 ms, total: 79.8 ms\n",
      "Wall time: 77.7 ms\n"
     ]
    }
   ],
   "source": [
    "%%time\n",
    "# Initialize environments\n",
    "env = environments.create(\n",
    "    env_name=env_name,\n",
    "    batch_size=env_batch_size * population_size_per_device,\n",
    "    episode_length=episode_length,\n",
    "    auto_reset=True,\n",
    ")\n",
    "\n",
    "eval_env = environments.create(\n",
    "    env_name=env_name,\n",
    "    batch_size=env_batch_size * population_size_per_device,\n",
    "    episode_length=episode_length,\n",
    "    auto_reset=True,\n",
    ")"
   ]
  },
  {
   "cell_type": "code",
   "execution_count": 6,
   "id": "5485a16c",
   "metadata": {
    "pycharm": {
     "name": "#%%\n"
    }
   },
   "outputs": [],
   "source": [
    "@jax.jit\n",
    "def init_environments(random_key):\n",
    "\n",
    "    env_states = jax.jit(env.reset)(rng=random_key)\n",
    "    eval_env_first_states = jax.jit(eval_env.reset)(rng=random_key)\n",
    "\n",
    "    reshape_fn = jax.jit(\n",
    "        lambda tree: jax.tree_map(\n",
    "            lambda x: jnp.reshape(\n",
    "                x, (population_size_per_device, env_batch_size,) + x.shape[1:]\n",
    "            ),\n",
    "            tree,\n",
    "        ),\n",
    "    )\n",
    "    env_states = reshape_fn(env_states)\n",
    "    eval_env_first_states = reshape_fn(eval_env_first_states)\n",
    "\n",
    "    return env_states, eval_env_first_states"
   ]
  },
  {
   "cell_type": "code",
   "execution_count": 7,
   "id": "4dc22ec4",
   "metadata": {
    "pycharm": {
     "name": "#%%\n"
    }
   },
   "outputs": [
    {
     "name": "stdout",
     "output_type": "stream",
     "text": [
      "CPU times: user 8.82 s, sys: 400 ms, total: 9.22 s\n",
      "Wall time: 6.65 s\n"
     ]
    }
   ],
   "source": [
    "%%time\n",
    "key = jax.random.PRNGKey(seed)\n",
    "key, *keys = jax.random.split(key, num=1 + num_devices)\n",
    "keys = jnp.stack(keys)\n",
    "env_states, eval_env_first_states = jax.pmap(\n",
    "    init_environments, axis_name=\"p\", devices=devices\n",
    ")(keys)"
   ]
  },
  {
   "cell_type": "code",
   "execution_count": 8,
   "id": "d9c610ba",
   "metadata": {
    "pycharm": {
     "name": "#%%\n"
    }
   },
   "outputs": [],
   "source": [
    "# get agent\n",
    "config = PBTTD3Config(\n",
    "    episode_length=episode_length,\n",
    "    batch_size=batch_size,\n",
    "    policy_delay=policy_delay,\n",
    "    soft_tau_update=soft_tau_update,\n",
    "    critic_hidden_layer_size=critic_hidden_layer_size,\n",
    "    policy_hidden_layer_size=policy_hidden_layer_size,\n",
    ")\n",
    "\n",
    "agent = PBTTD3(config=config, action_size=env.action_size)"
   ]
  },
  {
   "cell_type": "code",
   "execution_count": 9,
   "id": "4f6fd3b9",
   "metadata": {
    "pycharm": {
     "name": "#%%\n"
    }
   },
   "outputs": [
    {
     "name": "stdout",
     "output_type": "stream",
     "text": [
      "CPU times: user 920 ms, sys: 2.74 ms, total: 923 ms\n",
      "Wall time: 726 ms\n"
     ]
    }
   ],
   "source": [
    "%%time\n",
    "# get the initial training states and replay buffers\n",
    "agent_init_fn = agent.get_init_fn(\n",
    "    population_size=population_size_per_device,\n",
    "    action_size=env.action_size,\n",
    "    observation_size=env.observation_size,\n",
    "    buffer_size=buffer_size,\n",
    ")\n",
    "keys, training_states, replay_buffers = jax.pmap(\n",
    "    agent_init_fn, axis_name=\"p\", devices=devices\n",
    ")(keys)"
   ]
  },
  {
   "cell_type": "code",
   "execution_count": 10,
   "id": "a412cd4f",
   "metadata": {
    "pycharm": {
     "name": "#%%\n"
    }
   },
   "outputs": [],
   "source": [
    "# get eval policy fonction\n",
    "eval_policy = jax.pmap(agent.get_eval_fn(eval_env), axis_name=\"p\", devices=devices)"
   ]
  },
  {
   "cell_type": "code",
   "execution_count": 11,
   "id": "535250a8",
   "metadata": {
    "pycharm": {
     "name": "#%%\n"
    }
   },
   "outputs": [
    {
     "name": "stdout",
     "output_type": "stream",
     "text": [
      "Evaluation over 250 episodes, Population mean return: 741.47314453125, max return: 789.097900390625\n",
      "CPU times: user 7.63 s, sys: 241 ms, total: 7.87 s\n",
      "Wall time: 4.88 s\n"
     ]
    }
   ],
   "source": [
    "%%time\n",
    "# eval policy before training\n",
    "population_returns, _ = eval_policy(training_states, eval_env_first_states)\n",
    "population_returns = jnp.reshape(population_returns, (population_size,))\n",
    "print(\n",
    "    f\"Evaluation over {env_batch_size} episodes,\"\n",
    "    f\" Population mean return: {jnp.mean(population_returns)},\"\n",
    "    f\" max return: {jnp.max(population_returns)}\"\n",
    ")"
   ]
  },
  {
   "cell_type": "code",
   "execution_count": 12,
   "id": "d24156f4",
   "metadata": {
    "pycharm": {
     "name": "#%%\n"
    }
   },
   "outputs": [],
   "source": [
    "# get training function\n",
    "num_iterations = num_steps // env_batch_size\n",
    "\n",
    "train_fn = agent.get_train_fn(\n",
    "    env=env,\n",
    "    num_iterations=num_iterations,\n",
    "    env_batch_size=env_batch_size,\n",
    "    grad_updates_per_step=grad_updates_per_step,\n",
    ")\n",
    "train_fn = jax.pmap(train_fn, axis_name=\"p\", devices=devices)"
   ]
  },
  {
   "cell_type": "code",
   "execution_count": 13,
   "id": "23037e97",
   "metadata": {
    "pycharm": {
     "name": "#%%\n"
    }
   },
   "outputs": [],
   "source": [
    "pbt = PBT(\n",
    "    population_size=population_size,\n",
    "    num_best_to_replace_from=num_best_to_replace_from // num_devices,\n",
    "    num_worse_to_replace=num_worse_to_replace // num_devices,\n",
    ")\n",
    "select_fn = jax.pmap(pbt.update_states_and_buffer_pmap, axis_name=\"p\", devices=devices)"
   ]
  },
  {
   "cell_type": "code",
   "execution_count": 14,
   "id": "d9ebb235",
   "metadata": {
    "pycharm": {
     "name": "#%%\n"
    }
   },
   "outputs": [],
   "source": [
    "@jax.jit\n",
    "def unshard_fn(sharded_tree):\n",
    "    tree = jax.tree_map(lambda x: jax.device_put(x, \"cpu\"), sharded_tree)\n",
    "    tree = jax.tree_map(\n",
    "        lambda x: jnp.reshape(x, (population_size,) + x.shape[2:]), tree\n",
    "    )\n",
    "    return tree"
   ]
  },
  {
   "cell_type": "code",
   "execution_count": 15,
   "id": "a58253e5",
   "metadata": {
    "pycharm": {
     "name": "#%%\n"
    }
   },
   "outputs": [
    {
     "name": "stderr",
     "output_type": "stream",
     "text": [
      "  0%|          | 0/10 [00:00<?, ?it/s]"
     ]
    },
    {
     "name": "stdout",
     "output_type": "stream",
     "text": [
      "Evaluation over 250 episodes, Population mean return: -2377.849365234375, max return: -1136.852294921875\n"
     ]
    },
    {
     "name": "stderr",
     "output_type": "stream",
     "text": [
      " 20%|██        | 2/10 [00:23<01:32, 11.60s/it]"
     ]
    },
    {
     "name": "stdout",
     "output_type": "stream",
     "text": [
      "Evaluation over 250 episodes, Population mean return: -1639.5887451171875, max return: -840.1343994140625\n"
     ]
    },
    {
     "name": "stderr",
     "output_type": "stream",
     "text": [
      " 30%|███       | 3/10 [00:29<01:03,  9.10s/it]"
     ]
    },
    {
     "name": "stdout",
     "output_type": "stream",
     "text": [
      "Evaluation over 250 episodes, Population mean return: -799.96142578125, max return: -691.269287109375\n"
     ]
    },
    {
     "name": "stderr",
     "output_type": "stream",
     "text": [
      " 40%|████      | 4/10 [00:35<00:47,  7.91s/it]"
     ]
    },
    {
     "name": "stdout",
     "output_type": "stream",
     "text": [
      "Evaluation over 250 episodes, Population mean return: -562.3890380859375, max return: -247.29576110839844\n"
     ]
    },
    {
     "name": "stderr",
     "output_type": "stream",
     "text": [
      " 50%|█████     | 5/10 [00:41<00:36,  7.26s/it]"
     ]
    },
    {
     "name": "stdout",
     "output_type": "stream",
     "text": [
      "Evaluation over 250 episodes, Population mean return: 63.16473388671875, max return: 419.86932373046875\n"
     ]
    },
    {
     "name": "stderr",
     "output_type": "stream",
     "text": [
      " 60%|██████    | 6/10 [00:47<00:27,  6.86s/it]"
     ]
    },
    {
     "name": "stdout",
     "output_type": "stream",
     "text": [
      "Evaluation over 250 episodes, Population mean return: 527.791748046875, max return: 691.606201171875\n"
     ]
    },
    {
     "name": "stderr",
     "output_type": "stream",
     "text": [
      " 70%|███████   | 7/10 [00:53<00:19,  6.62s/it]"
     ]
    },
    {
     "name": "stdout",
     "output_type": "stream",
     "text": [
      "Evaluation over 250 episodes, Population mean return: 751.8699951171875, max return: 811.7660522460938\n"
     ]
    },
    {
     "name": "stderr",
     "output_type": "stream",
     "text": [
      " 80%|████████  | 8/10 [01:00<00:12,  6.46s/it]"
     ]
    },
    {
     "name": "stdout",
     "output_type": "stream",
     "text": [
      "Evaluation over 250 episodes, Population mean return: 662.638916015625, max return: 739.002685546875\n"
     ]
    },
    {
     "name": "stderr",
     "output_type": "stream",
     "text": [
      " 90%|█████████ | 9/10 [01:06<00:06,  6.35s/it]"
     ]
    },
    {
     "name": "stdout",
     "output_type": "stream",
     "text": [
      "Evaluation over 250 episodes, Population mean return: 959.3629760742188, max return: 1050.8975830078125\n"
     ]
    },
    {
     "name": "stderr",
     "output_type": "stream",
     "text": [
      "100%|██████████| 10/10 [01:12<00:00,  7.23s/it]"
     ]
    },
    {
     "name": "stdout",
     "output_type": "stream",
     "text": [
      "Evaluation over 250 episodes, Population mean return: 1183.953125, max return: 1248.028076171875\n",
      "CPU times: user 1min 13s, sys: 5.63 s, total: 1min 19s\n",
      "Wall time: 1min 12s\n"
     ]
    },
    {
     "name": "stderr",
     "output_type": "stream",
     "text": [
      "\n"
     ]
    }
   ],
   "source": [
    "%%time\n",
    "for i in tqdm(range(num_loops), total=num_loops):\n",
    "\n",
    "    # Update for num_steps\n",
    "    (training_states, env_states, replay_buffers), metrics = train_fn(\n",
    "        training_states, env_states, replay_buffers\n",
    "    )\n",
    "\n",
    "    # Eval policy after training\n",
    "    population_returns, _ = eval_policy(training_states, eval_env_first_states)\n",
    "    population_returns_flatten = jnp.reshape(population_returns, (population_size,))\n",
    "\n",
    "    if i % print_freq == 0:\n",
    "        print(\n",
    "            f\"Evaluation over {env_batch_size} episodes,\"\n",
    "            f\" Population mean return: {jnp.mean(population_returns_flatten)},\"\n",
    "            f\" max return: {jnp.max(population_returns_flatten)}\"\n",
    "        )\n",
    "\n",
    "    # PBT selection\n",
    "    if i < (num_loops-1):\n",
    "        keys, training_states, replay_buffers = select_fn(\n",
    "            keys, population_returns, training_states, replay_buffers\n",
    "        )"
   ]
  },
  {
   "cell_type": "code",
   "execution_count": null,
   "id": "6111e836",
   "metadata": {
    "pycharm": {
     "name": "#%%\n"
    }
   },
   "outputs": [],
   "source": []
  }
 ],
 "metadata": {
  "kernelspec": {
   "display_name": "Python 3 (ipykernel)",
   "language": "python",
   "name": "python3"
  },
  "language_info": {
   "codemirror_mode": {
    "name": "ipython",
    "version": 3
   },
   "file_extension": ".py",
   "mimetype": "text/x-python",
   "name": "python",
   "nbconvert_exporter": "python",
   "pygments_lexer": "ipython3",
   "version": "3.9.16"
  }
 },
 "nbformat": 4,
 "nbformat_minor": 5
}
